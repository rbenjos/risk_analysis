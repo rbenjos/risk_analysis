{
 "cells": [
  {
   "cell_type": "code",
   "execution_count": 68,
   "metadata": {
    "collapsed": true,
    "pycharm": {
     "is_executing": false
    }
   },
   "outputs": [],
   "source": [
    "import numpy as np\n",
    "import pandas as pd\n",
    "import matplotlib.pyplot as plt"
   ]
  },
  {
   "cell_type": "code",
   "execution_count": 26,
   "outputs": [],
   "source": [
    "actuals = pd.read_csv('D:\\projects\\data\\Actual-2019-April.csv')"
   ],
   "metadata": {
    "collapsed": false,
    "pycharm": {
     "name": "#%%\n",
     "is_executing": false
    }
   }
  },
  {
   "cell_type": "code",
   "execution_count": 54,
   "outputs": [
    {
     "data": {
      "text/plain": "    id             timeFrom  energyKwh\n0  100  2019-03-31 21:00:00    1790.25\n1  100  2019-03-31 21:30:00    1785.00\n2  100  2019-03-31 22:00:00    1793.25\n3  100  2019-03-31 22:30:00    1778.25\n4  100  2019-03-31 23:00:00    1776.00",
      "text/html": "<div>\n<style scoped>\n    .dataframe tbody tr th:only-of-type {\n        vertical-align: middle;\n    }\n\n    .dataframe tbody tr th {\n        vertical-align: top;\n    }\n\n    .dataframe thead th {\n        text-align: right;\n    }\n</style>\n<table border=\"1\" class=\"dataframe\">\n  <thead>\n    <tr style=\"text-align: right;\">\n      <th></th>\n      <th>id</th>\n      <th>timeFrom</th>\n      <th>energyKwh</th>\n    </tr>\n  </thead>\n  <tbody>\n    <tr>\n      <th>0</th>\n      <td>100</td>\n      <td>2019-03-31 21:00:00</td>\n      <td>1790.25</td>\n    </tr>\n    <tr>\n      <th>1</th>\n      <td>100</td>\n      <td>2019-03-31 21:30:00</td>\n      <td>1785.00</td>\n    </tr>\n    <tr>\n      <th>2</th>\n      <td>100</td>\n      <td>2019-03-31 22:00:00</td>\n      <td>1793.25</td>\n    </tr>\n    <tr>\n      <th>3</th>\n      <td>100</td>\n      <td>2019-03-31 22:30:00</td>\n      <td>1778.25</td>\n    </tr>\n    <tr>\n      <th>4</th>\n      <td>100</td>\n      <td>2019-03-31 23:00:00</td>\n      <td>1776.00</td>\n    </tr>\n  </tbody>\n</table>\n</div>"
     },
     "metadata": {},
     "output_type": "execute_result",
     "execution_count": 54
    }
   ],
   "source": [
    "actuals.head()"
   ],
   "metadata": {
    "collapsed": false,
    "pycharm": {
     "name": "#%%\n",
     "is_executing": false
    }
   }
  },
  {
   "cell_type": "code",
   "execution_count": 244,
   "outputs": [],
   "source": [],
   "metadata": {
    "collapsed": false,
    "pycharm": {
     "name": "#%%\n",
     "is_executing": false
    }
   }
  },
  {
   "cell_type": "code",
   "execution_count": 63,
   "outputs": [
    {
     "name": "stdout",
     "text": [
      "0\n",
      "16611\n"
     ],
     "output_type": "stream"
    }
   ],
   "source": [
    "print(actuals.isna().sum().sum())\n",
    "print((actuals==0).sum().sum())\n",
    "\n",
    "# meaning no null values, but alot of 0 values (is it possible?)"
   ],
   "metadata": {
    "collapsed": false,
    "pycharm": {
     "name": "#%%\n",
     "is_executing": false
    }
   }
  },
  {
   "cell_type": "code",
   "execution_count": 274,
   "outputs": [],
   "source": [
    "\n",
    "# lets group by station\n",
    "pt_by_station = pd.pivot_table(data = actuals, values = 'energyKwh',index = 'timeFrom', columns='id')\n",
    "pt_by_station['total'] = pt_by_station.sum(axis=1)\n",
    "pt_by_station *= 2"
   ],
   "metadata": {
    "collapsed": false,
    "pycharm": {
     "name": "#%%\n",
     "is_executing": false
    }
   }
  },
  {
   "cell_type": "code",
   "execution_count": 85,
   "outputs": [],
   "source": [
    "# the following is a list of station ranked by the number of zero values they have\n",
    "stations_by_zero_values = (pt_by_station==0).sum(axis=0).sort_values(ascending=False)\n",
    "\n",
    "# we would like to take out of our calculation any station that has more\n",
    "# than 500 zero values, as it would inappropriately be marked as 'safe'\n",
    "\n",
    "uncalculated_meters = stations_by_zero_values[stations_by_zero_values>500].index"
   ],
   "metadata": {
    "collapsed": false,
    "pycharm": {
     "name": "#%%\n",
     "is_executing": false
    }
   }
  },
  {
   "cell_type": "code",
   "execution_count": 268,
   "outputs": [],
   "source": [
    "# lets get the must meters:\n",
    "meters_used = actuals['id'].unique()\n",
    "meters = pd.read_csv(f'..\\\\data\\\\OPC-Meters.csv')\n",
    "must_customers = pd.read_csv(f'..\\\\data\\\\must_meters.csv')\n",
    "must_station = [station for station in meters['name'].values for must in must_customers['Must Customers'].values if must in station]\n",
    "must_meters = meters[meters['name'].isin(must_station)]['meterId'].values\n",
    "must_meters_used = [meter for meter in must_meters if meter in meters_used]"
   ],
   "metadata": {
    "collapsed": false,
    "pycharm": {
     "name": "#%%\n",
     "is_executing": false
    }
   }
  },
  {
   "cell_type": "code",
   "execution_count": 267,
   "outputs": [],
   "source": [],
   "metadata": {
    "collapsed": false,
    "pycharm": {
     "name": "#%%\n",
     "is_executing": false
    }
   }
  },
  {
   "cell_type": "code",
   "execution_count": 275,
   "outputs": [],
   "source": [
    "pt_by_station_to_rank = pt_by_station.drop(columns=must_meters_used).drop(columns=uncalculated_meters)"
   ],
   "metadata": {
    "collapsed": false,
    "pycharm": {
     "name": "#%%\n",
     "is_executing": false
    }
   }
  },
  {
   "cell_type": "code",
   "execution_count": 291,
   "outputs": [
    {
     "data": {
      "text/plain": "746                     0.000000\n744                     0.000000\n782                     0.087500\n1024                    0.424000\n1062                    0.480000\n1052                    0.844000\n1058                    0.880000\n894                     1.000000\n1034                    1.000000\n819                     1.325000\n908                     2.400000\n1048                    2.950000\n794                     3.262500\n675                     4.000000\n1050                    4.750000\n1064                    5.840000\n795                     6.175000\n1047                    7.126000\n788                     7.556250\n1051                    8.376000\n1027                    9.900000\n1063                   10.974000\n241                    11.000000\n1059                   14.138000\n1065                   14.400000\n585                    14.512500\n776                    16.618750\n948                    18.475000\n1046                   19.574000\n1029                   20.034000\n                        ...     \n875                  2704.000000\n954                  2779.000000\n974                  2796.000000\n453                  2902.800000\n117                  2988.000000\n25                   3013.200000\n410                  3015.000000\n412                  3023.000000\n24                   3094.800000\n23                   3122.400000\n11                   3130.000000\n663                  3221.000000\nClalit Kaplan MC     3223.000000\n514                  3390.000000\n100                  3555.444680\n19                   3692.000000\n22                   3889.200000\n115                  4318.000000\n50                   4334.000000\nClalit Meir MC       4348.000000\n52                   6120.944680\nAP Main              8406.000000\n242                 10416.964463\n53                  11648.000000\n311                 13960.944680\n312                 15008.000000\n1056                28205.385180\nCAOL                44255.930041\n860                 47805.414808\n662                 49045.774808\nLength: 317, dtype: float64"
     },
     "metadata": {},
     "output_type": "execute_result",
     "execution_count": 291
    }
   ],
   "source": [
    "# now lets rate the station by the amount they contribute to the total maximum\n",
    "\n",
    "\n",
    "effect_by_meter = {}\n",
    "for column in pt_by_station_to_rank.columns:\n",
    "    max_without = (pt_by_station_to_rank['total']-pt_by_station_to_rank[column]).max() \n",
    "    effect_on_max = pt_by_station_to_rank['total'].max() - max_without\n",
    "    effect_by_meter[column] = effect_on_max\n",
    "\n",
    "# and rate them by that risk    \n",
    "meters_by_risk = pd.Series(effect_by_meter).sort_values()[:-1]\n",
    "meters_by_risk"
   ],
   "metadata": {
    "collapsed": false,
    "pycharm": {
     "name": "#%%\n",
     "is_executing": false
    }
   }
  },
  {
   "cell_type": "code",
   "execution_count": 290,
   "outputs": [
    {
     "data": {
      "text/plain": "id\nCAOL                7.074917e+07\n860                 4.118906e+07\n311                 1.999379e+07\n312                 1.942282e+07\n53                  1.710330e+07\n242                 1.472970e+07\nAP Main             1.168285e+07\n52                  8.187424e+06\n115                 6.315966e+06\n100                 5.316248e+06\n50                  4.938784e+06\nClalit Meir MC      4.585378e+06\n412                 4.244953e+06\n410                 3.788923e+06\n117                 3.702151e+06\nClalit Kaplan MC    3.569906e+06\n22                  3.513952e+06\n25                  3.480788e+06\n514                 3.469092e+06\n453                 3.157675e+06\n106                 3.126366e+06\n19                  2.894588e+06\n23                  2.832887e+06\n663                 2.757328e+06\n673                 2.720268e+06\n974                 2.707748e+06\n107                 2.673568e+06\n11                  2.588158e+06\n954                 2.587047e+06\n1020                2.582919e+06\n                        ...     \n944                 1.909751e+04\n1056                1.896850e+04\n1051                1.838596e+04\n1046                1.624600e+04\n1050                1.585200e+04\n819                 1.526048e+04\n1027                1.486017e+04\n675                 1.370432e+04\n241                 1.350625e+04\n1029                1.343851e+04\n948                 1.263427e+04\n1062                1.169449e+04\n1052                1.112176e+04\n585                 1.001993e+04\n1024                9.987618e+03\n1057                9.195972e+03\n1064                9.103268e+03\n1059                8.643910e+03\n1055                7.083724e+03\n1053                6.775112e+03\n788                 6.455744e+03\n1048                6.144974e+03\n795                 5.777419e+03\n1065                5.023546e+03\n1047                4.345200e+03\n908                 2.906736e+03\n794                 1.925437e+03\n894                 1.492750e+03\n1058                1.316144e+03\n782                 3.253812e+02\nLength: 317, dtype: float64"
     },
     "metadata": {},
     "output_type": "execute_result",
     "execution_count": 290
    }
   ],
   "source": [
    "# doing the same for total consumption might also be right, that way \n",
    "# we can measure risk against importance again\n",
    "\n",
    "pt_by_station_to_rank.sum().sort_values(ascending=False)[1:]"
   ],
   "metadata": {
    "collapsed": false,
    "pycharm": {
     "name": "#%%\n",
     "is_executing": false
    }
   }
  },
  {
   "cell_type": "code",
   "execution_count": 279,
   "outputs": [
    {
     "data": {
      "text/plain": "['Gadot Main',\n 'Intel F28',\n 'Intel IDC1-4',\n 'Intel IDC9',\n 'Intel IDPj',\n '92',\n 'Iscar MainTools',\n '93',\n '91',\n '95',\n 'ORL']"
     },
     "metadata": {},
     "output_type": "execute_result",
     "execution_count": 279
    }
   ],
   "source": [],
   "metadata": {
    "collapsed": false,
    "pycharm": {
     "name": "#%%\n",
     "is_executing": false
    }
   }
  },
  {
   "cell_type": "code",
   "execution_count": 282,
   "outputs": [
    {
     "data": {
      "text/plain": "(1441, 545)"
     },
     "metadata": {},
     "output_type": "execute_result",
     "execution_count": 282
    }
   ],
   "source": [
    "rate = 400\n",
    "meters_included = must_meters_used\n",
    "for meter in meters_by_risk.index:\n",
    "    current_max = pt_by_station[meters_included].sum(axis=1).max()\n",
    "    if current_max > rate*1000:\n",
    "        break\n",
    "    meters_included.append(meter)\n",
    "    \n",
    "\n",
    "pt_by_station[meters_included].shape"
   ],
   "metadata": {
    "collapsed": false,
    "pycharm": {
     "name": "#%%\n",
     "is_executing": false
    }
   }
  },
  {
   "cell_type": "code",
   "execution_count": 281,
   "outputs": [
    {
     "data": {
      "text/plain": "410                  3015.000000\n412                  3023.000000\n24                   3094.800000\n23                   3122.400000\n11                   3130.000000\n663                  3221.000000\nClalit Kaplan MC     3223.000000\n514                  3390.000000\n100                  3555.444680\n19                   3692.000000\n22                   3889.200000\n115                  4318.000000\n50                   4334.000000\nClalit Meir MC       4348.000000\n52                   6120.944680\nAP Main              8406.000000\n242                 10416.964463\n53                  11648.000000\n311                 13960.944680\n312                 15008.000000\n1056                28205.385180\nCAOL                44255.930041\n860                 47805.414808\n662                 49045.774808\ndtype: float64"
     },
     "metadata": {},
     "output_type": "execute_result",
     "execution_count": 281
    }
   ],
   "source": [
    "meters_by_risk[len(meters_included):]\n"
   ],
   "metadata": {
    "collapsed": false,
    "pycharm": {
     "name": "#%%\n",
     "is_executing": false
    }
   }
  }
 ],
 "metadata": {
  "kernelspec": {
   "display_name": "Python 3",
   "language": "python",
   "name": "python3"
  },
  "language_info": {
   "codemirror_mode": {
    "name": "ipython",
    "version": 2
   },
   "file_extension": ".py",
   "mimetype": "text/x-python",
   "name": "python",
   "nbconvert_exporter": "python",
   "pygments_lexer": "ipython2",
   "version": "2.7.6"
  },
  "pycharm": {
   "stem_cell": {
    "cell_type": "raw",
    "source": [],
    "metadata": {
     "collapsed": false
    }
   }
  }
 },
 "nbformat": 4,
 "nbformat_minor": 0
}