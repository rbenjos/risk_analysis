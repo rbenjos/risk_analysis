{
 "cells": [
  {
   "cell_type": "code",
   "execution_count": 1,
   "metadata": {
    "collapsed": true,
    "pycharm": {
     "is_executing": false
    }
   },
   "outputs": [],
   "source": [
    "import numpy as np"
   ]
  },
  {
   "cell_type": "code",
   "execution_count": 3,
   "outputs": [
    {
     "name": "stdout",
     "text": [
      "[3 9 6 5 1 5 8 0 7 2 0 7 6 8 3 8 8 1 2 9 5 8 9 6 2 0 1 8 3 8 2 1 1 2 6 1 1\n",
      " 9 6 7 0 6 5 6 4 8 4 4 9 5]\n"
     ],
     "output_type": "stream"
    }
   ],
   "source": [
    "x = np.random.randint(0,10,50)\n",
    "print(x)"
   ],
   "metadata": {
    "collapsed": false,
    "pycharm": {
     "name": "#%%\n",
     "is_executing": false
    }
   }
  },
  {
   "cell_type": "code",
   "execution_count": 33,
   "outputs": [
    {
     "name": "stdout",
     "text": [
      "[3 9 6 5 1 5 8 0 7 2 0 7 6 8 3 8 8 1 2 9 5 8 9 6 2 0 1 8 3 8 2 1 1 2 6 1 1\n",
      " 9 6 7 0 6 5 6 4 8 4 4 9 5]\n",
      "[12 72 30 10  6 35 64  0  7  6  0 42 48 64  0 48 32  1  2  0 25 40 45  6\n",
      " 14  0  9 40 24 48 10  9  7  0 54  3  1 54  0 42  0 36 15 42 36  8 16 36\n",
      " 45 45]\n"
     ],
     "output_type": "stream"
    }
   ],
   "source": [
    "y = np.random.randint(0,10,50)\n",
    "print(x)\n",
    "print(x*y)\n"
   ],
   "metadata": {
    "collapsed": false,
    "pycharm": {
     "name": "#%%\n",
     "is_executing": false
    }
   }
  },
  {
   "cell_type": "code",
   "execution_count": 50,
   "outputs": [],
   "source": [
    "\n",
    "lst1 = [[i*j for j in range(3)] for i in range(3)]\n",
    "lst2 = [[i*j*2 for j in range(3)] for i in range(3)]"
   ],
   "metadata": {
    "collapsed": false,
    "pycharm": {
     "name": "#%%\n",
     "is_executing": false
    }
   }
  },
  {
   "cell_type": "code",
   "execution_count": 52,
   "outputs": [
    {
     "name": "stdout",
     "text": [
      "0\n",
      "0\n",
      "0\n",
      "0\n",
      "2\n",
      "8\n",
      "0\n",
      "8\n",
      "32\n"
     ],
     "output_type": "stream"
    }
   ],
   "source": [
    "for pair in zip(lst1,lst2):\n",
    "    for p in zip(pair[0],pair[1]):\n",
    "        print(p[0]*p[1"
   ],
   "metadata": {
    "collapsed": false,
    "pycharm": {
     "name": "#%%\n",
     "is_executing": false
    }
   }
  }
 ],
 "metadata": {
  "kernelspec": {
   "display_name": "Python 3",
   "language": "python",
   "name": "python3"
  },
  "language_info": {
   "codemirror_mode": {
    "name": "ipython",
    "version": 2
   },
   "file_extension": ".py",
   "mimetype": "text/x-python",
   "name": "python",
   "nbconvert_exporter": "python",
   "pygments_lexer": "ipython2",
   "version": "2.7.6"
  },
  "pycharm": {
   "stem_cell": {
    "cell_type": "raw",
    "source": [],
    "metadata": {
     "collapsed": false
    }
   }
  }
 },
 "nbformat": 4,
 "nbformat_minor": 0
}