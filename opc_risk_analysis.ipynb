{
 "nbformat": 4,
 "nbformat_minor": 0,
 "metadata": {
  "colab": {
   "name": "opc_risk_analysis.ipynb",
   "provenance": []
  },
  "kernelspec": {
   "name": "python3",
   "language": "python",
   "display_name": "Python 3"
  },
  "language_info": {
   "name": "python"
  }
 },
 "cells": [
  {
   "cell_type": "code",
   "metadata": {
    "id": "UVwKrfwvIQ6P",
    "pycharm": {
     "is_executing": false
    }
   },
   "source": [
    "\n",
    "import numpy as np\n",
    "import pandas as pd\n",
    "import matplotlib.pyplot as plt\n",
    "import seaborn as sns\n",
    "from scipy.stats import norm, gaussian_kde"
   ],
   "execution_count": 1,
   "outputs": []
  },
  {
   "cell_type": "code",
   "metadata": {
    "colab": {
     "base_uri": "https://localhost:8080/"
    },
    "id": "3_hduS-gIUxt",
    "outputId": "b5008bcd-3dba-4017-f22e-58d84e8a0c16",
    "pycharm": {
     "is_executing": false
    }
   },
   "source": [
    "def make_data(N, f=0.3, rseed=1):\n",
    "    rand = np.random.RandomState(rseed)\n",
    "    x = rand.randn(N)\n",
    "    x[int(f * N):] += 2\n",
    "    return x\n",
    "\n",
    "x = make_data(13,rseed=1)\n",
    "x"
   ],
   "execution_count": 2,
   "outputs": [
    {
     "data": {
      "text/plain": "array([ 1.62434536, -0.61175641, -0.52817175,  0.92703138,  2.86540763,\n       -0.3015387 ,  3.74481176,  1.2387931 ,  2.3190391 ,  1.75062962,\n        3.46210794, -0.06014071,  1.6775828 ])"
     },
     "metadata": {},
     "output_type": "execute_result",
     "execution_count": 2
    }
   ]
  },
  {
   "cell_type": "code",
   "metadata": {
    "colab": {
     "base_uri": "https://localhost:8080/",
     "height": 282
    },
    "id": "1BpAIgysJjDa",
    "outputId": "47ad4dc9-7aa8-4ae9-d451-5a528710da1b",
    "pycharm": {
     "is_executing": false
    }
   },
   "source": [
    "plt.scatter(x,[1]*len(x),alpha=0.5)"
   ],
   "execution_count": 3,
   "outputs": [
    {
     "data": {
      "text/plain": "<matplotlib.collections.PathCollection at 0x21937d5a978>"
     },
     "metadata": {},
     "output_type": "execute_result",
     "execution_count": 3
    },
    {
     "data": {
      "text/plain": "<Figure size 432x288 with 1 Axes>",
      "image/png": "[encoded data removed]"
     },
     "metadata": {
      "needs_background": "light"
     },
     "output_type": "display_data"
    }
   ]
  },
  {
   "cell_type": "code",
   "metadata": {
    "colab": {
     "base_uri": "https://localhost:8080/"
    },
    "id": "RYiO7Y18I1LU",
    "outputId": "97bee354-75a0-4182-bc7c-db754819902a",
    "pycharm": {
     "is_executing": false
    }
   },
   "source": [
    "kernel = gaussian_kde(x)\n",
    "space = np.linspace(-10,15,100)\n",
    "density = kernel.pdf(space)\n",
    "density"
   ],
   "execution_count": 4,
   "outputs": [
    {
     "data": {
      "text/plain": "array([1.17989623e-26, 2.40965569e-25, 4.53515247e-24, 7.86616630e-23,\n       1.25741350e-21, 1.85245316e-20, 2.51525402e-19, 3.14770839e-18,\n       3.63077171e-17, 3.86020535e-16, 3.78308114e-15, 3.41761548e-14,\n       2.84618731e-13, 2.18518942e-12, 1.54676736e-11, 1.00948253e-10,\n       6.07492639e-10, 3.37120645e-09, 1.72531756e-08, 8.14391524e-08,\n       3.54587474e-07, 1.42426125e-06, 5.27822015e-06, 1.80500451e-05,\n       5.69678963e-05, 1.65966060e-04, 4.46407438e-04, 1.10882970e-03,\n       2.54410244e-03, 5.39361026e-03, 1.05699829e-02, 1.91579276e-02,\n       3.21380805e-02, 4.99514802e-02, 7.20485482e-02, 9.66757324e-02,\n       1.21140629e-01, 1.42600658e-01, 1.59105991e-01, 1.70387452e-01,\n       1.77915672e-01, 1.84110854e-01, 1.91065191e-01, 1.99444481e-01,\n       2.08152066e-01, 2.14909647e-01, 2.17401768e-01, 2.14349062e-01,\n       2.05968425e-01, 1.93660220e-01, 1.79189518e-01, 1.63858900e-01,\n       1.48103414e-01, 1.31650249e-01, 1.14062401e-01, 9.53062256e-02,\n       7.60241434e-02, 5.74016458e-02, 4.07521914e-02, 2.70693293e-02,\n       1.67621714e-02, 9.65084344e-03, 5.15640230e-03, 2.55304243e-03,\n       1.17013939e-03, 4.96061211e-04, 1.94393237e-04, 7.03824043e-05,\n       2.35351207e-05, 7.26612708e-06, 2.07068120e-06, 5.44572204e-07,\n       1.32145545e-07, 2.95827559e-08, 6.10881555e-09, 1.16347781e-09,\n       2.04361083e-10, 3.31007914e-11, 4.94360500e-12, 6.80742492e-13,\n       8.64225540e-14, 1.01146401e-14, 1.09126210e-15, 1.08527846e-16,\n       9.94870921e-18, 8.40595970e-19, 6.54614959e-20, 4.69836752e-21,\n       3.10782173e-22, 1.89452358e-23, 1.06430605e-24, 5.50990871e-26,\n       2.62859267e-27, 1.15556313e-28, 4.68108796e-30, 1.74732873e-31,\n       6.00993431e-33, 1.90469452e-34, 5.56205398e-36, 1.49655817e-37])"
     },
     "metadata": {},
     "output_type": "execute_result",
     "execution_count": 4
    }
   ]
  },
  {
   "cell_type": "code",
   "metadata": {
    "colab": {
     "base_uri": "https://localhost:8080/",
     "height": 282
    },
    "id": "8WZeNzUljWeU",
    "outputId": "87f8ea7a-9244-4ee4-a879-3fe3555158b2",
    "pycharm": {
     "is_executing": false
    }
   },
   "source": [
    "plt.plot(space,density)"
   ],
   "execution_count": 5,
   "outputs": [
    {
     "data": {
      "text/plain": "[<matplotlib.lines.Line2D at 0x21939df3898>]"
     },
     "metadata": {},
     "output_type": "execute_result",
     "execution_count": 5
    },
    {
     "data": {
      "text/plain": "<Figure size 432x288 with 1 Axes>",
      "image/png": "[encoded data removed]"
     },
     "metadata": {
      "needs_background": "light"
     },
     "output_type": "display_data"
    }
   ]
  },
  {
   "cell_type": "code",
   "metadata": {
    "id": "IK0eGzh0K3Uj",
    "pycharm": {
     "is_executing": false
    }
   },
   "source": [
    "df = pd.read_csv(\"station_53.csv\", names=['modelId','station_num','timeFrom','prognoses'])\n",
    "pt = pd.pivot_table(df,values='prognoses', index ='timeFrom', columns='modelId')"
   ],
   "execution_count": 6,
   "outputs": [
    {
     "traceback": [
      "\u001b[1;31m---------------------------------------------------------------------------\u001b[0m",
      "\u001b[1;31mFileNotFoundError\u001b[0m                         Traceback (most recent call last)",
      "\u001b[1;32m<ipython-input-6-874f11c86658>\u001b[0m in \u001b[0;36m<module>\u001b[1;34m\u001b[0m\n\u001b[1;32m----> 1\u001b[1;33m \u001b[0mdf\u001b[0m \u001b[1;33m=\u001b[0m \u001b[0mpd\u001b[0m\u001b[1;33m.\u001b[0m\u001b[0mread_csv\u001b[0m\u001b[1;33m(\u001b[0m\u001b[1;34m\"station_53.csv\"\u001b[0m\u001b[1;33m,\u001b[0m \u001b[0mnames\u001b[0m\u001b[1;33m=\u001b[0m\u001b[1;33m[\u001b[0m\u001b[1;34m'modelId'\u001b[0m\u001b[1;33m,\u001b[0m\u001b[1;34m'station_num'\u001b[0m\u001b[1;33m,\u001b[0m\u001b[1;34m'timeFrom'\u001b[0m\u001b[1;33m,\u001b[0m\u001b[1;34m'prognoses'\u001b[0m\u001b[1;33m]\u001b[0m\u001b[1;33m)\u001b[0m\u001b[1;33m\u001b[0m\u001b[1;33m\u001b[0m\u001b[0m\n\u001b[0m\u001b[0;32m      2\u001b[0m \u001b[0mpt\u001b[0m \u001b[1;33m=\u001b[0m \u001b[0mpd\u001b[0m\u001b[1;33m.\u001b[0m\u001b[0mpivot_table\u001b[0m\u001b[1;33m(\u001b[0m\u001b[0mdf\u001b[0m\u001b[1;33m,\u001b[0m\u001b[0mvalues\u001b[0m\u001b[1;33m=\u001b[0m\u001b[1;34m'prognoses'\u001b[0m\u001b[1;33m,\u001b[0m \u001b[0mindex\u001b[0m \u001b[1;33m=\u001b[0m\u001b[1;34m'timeFrom'\u001b[0m\u001b[1;33m,\u001b[0m \u001b[0mcolumns\u001b[0m\u001b[1;33m=\u001b[0m\u001b[1;34m'modelId'\u001b[0m\u001b[1;33m)\u001b[0m\u001b[1;33m\u001b[0m\u001b[1;33m\u001b[0m\u001b[0m\n\u001b[0;32m      3\u001b[0m \u001b[1;33m\u001b[0m\u001b[0m\n",
      "\u001b[1;32mc:\\users\\rbenj\\appdata\\local\\programs\\python\\python37\\lib\\site-packages\\pandas\\io\\parsers.py\u001b[0m in \u001b[0;36mparser_f\u001b[1;34m(filepath_or_buffer, sep, delimiter, header, names, index_col, usecols, squeeze, prefix, mangle_dupe_cols, dtype, engine, converters, true_values, false_values, skipinitialspace, skiprows, nrows, na_values, keep_default_na, na_filter, verbose, skip_blank_lines, parse_dates, infer_datetime_format, keep_date_col, date_parser, dayfirst, iterator, chunksize, compression, thousands, decimal, lineterminator, quotechar, quoting, escapechar, comment, encoding, dialect, tupleize_cols, error_bad_lines, warn_bad_lines, skipfooter, doublequote, delim_whitespace, low_memory, memory_map, float_precision)\u001b[0m\n\u001b[0;32m    676\u001b[0m                     skip_blank_lines=skip_blank_lines)\n\u001b[0;32m    677\u001b[0m \u001b[1;33m\u001b[0m\u001b[0m\n\u001b[1;32m--> 678\u001b[1;33m         \u001b[1;32mreturn\u001b[0m \u001b[0m_read\u001b[0m\u001b[1;33m(\u001b[0m\u001b[0mfilepath_or_buffer\u001b[0m\u001b[1;33m,\u001b[0m \u001b[0mkwds\u001b[0m\u001b[1;33m)\u001b[0m\u001b[1;33m\u001b[0m\u001b[1;33m\u001b[0m\u001b[0m\n\u001b[0m\u001b[0;32m    679\u001b[0m \u001b[1;33m\u001b[0m\u001b[0m\n\u001b[0;32m    680\u001b[0m     \u001b[0mparser_f\u001b[0m\u001b[1;33m.\u001b[0m\u001b[0m__name__\u001b[0m \u001b[1;33m=\u001b[0m \u001b[0mname\u001b[0m\u001b[1;33m\u001b[0m\u001b[1;33m\u001b[0m\u001b[0m\n",
      "\u001b[1;32mc:\\users\\rbenj\\appdata\\local\\programs\\python\\python37\\lib\\site-packages\\pandas\\io\\parsers.py\u001b[0m in \u001b[0;36m_read\u001b[1;34m(filepath_or_buffer, kwds)\u001b[0m\n\u001b[0;32m    438\u001b[0m \u001b[1;33m\u001b[0m\u001b[0m\n\u001b[0;32m    439\u001b[0m     \u001b[1;31m# Create the parser.\u001b[0m\u001b[1;33m\u001b[0m\u001b[1;33m\u001b[0m\u001b[1;33m\u001b[0m\u001b[0m\n\u001b[1;32m--> 440\u001b[1;33m     \u001b[0mparser\u001b[0m \u001b[1;33m=\u001b[0m \u001b[0mTextFileReader\u001b[0m\u001b[1;33m(\u001b[0m\u001b[0mfilepath_or_buffer\u001b[0m\u001b[1;33m,\u001b[0m \u001b[1;33m**\u001b[0m\u001b[0mkwds\u001b[0m\u001b[1;33m)\u001b[0m\u001b[1;33m\u001b[0m\u001b[1;33m\u001b[0m\u001b[0m\n\u001b[0m\u001b[0;32m    441\u001b[0m \u001b[1;33m\u001b[0m\u001b[0m\n\u001b[0;32m    442\u001b[0m     \u001b[1;32mif\u001b[0m \u001b[0mchunksize\u001b[0m \u001b[1;32mor\u001b[0m \u001b[0miterator\u001b[0m\u001b[1;33m:\u001b[0m\u001b[1;33m\u001b[0m\u001b[1;33m\u001b[0m\u001b[0m\n",
      "\u001b[1;32mc:\\users\\rbenj\\appdata\\local\\programs\\python\\python37\\lib\\site-packages\\pandas\\io\\parsers.py\u001b[0m in \u001b[0;36m__init__\u001b[1;34m(self, f, engine, **kwds)\u001b[0m\n\u001b[0;32m    785\u001b[0m             \u001b[0mself\u001b[0m\u001b[1;33m.\u001b[0m\u001b[0moptions\u001b[0m\u001b[1;33m[\u001b[0m\u001b[1;34m'has_index_names'\u001b[0m\u001b[1;33m]\u001b[0m \u001b[1;33m=\u001b[0m \u001b[0mkwds\u001b[0m\u001b[1;33m[\u001b[0m\u001b[1;34m'has_index_names'\u001b[0m\u001b[1;33m]\u001b[0m\u001b[1;33m\u001b[0m\u001b[1;33m\u001b[0m\u001b[0m\n\u001b[0;32m    786\u001b[0m \u001b[1;33m\u001b[0m\u001b[0m\n\u001b[1;32m--> 787\u001b[1;33m         \u001b[0mself\u001b[0m\u001b[1;33m.\u001b[0m\u001b[0m_make_engine\u001b[0m\u001b[1;33m(\u001b[0m\u001b[0mself\u001b[0m\u001b[1;33m.\u001b[0m\u001b[0mengine\u001b[0m\u001b[1;33m)\u001b[0m\u001b[1;33m\u001b[0m\u001b[1;33m\u001b[0m\u001b[0m\n\u001b[0m\u001b[0;32m    788\u001b[0m \u001b[1;33m\u001b[0m\u001b[0m\n\u001b[0;32m    789\u001b[0m     \u001b[1;32mdef\u001b[0m \u001b[0mclose\u001b[0m\u001b[1;33m(\u001b[0m\u001b[0mself\u001b[0m\u001b[1;33m)\u001b[0m\u001b[1;33m:\u001b[0m\u001b[1;33m\u001b[0m\u001b[1;33m\u001b[0m\u001b[0m\n",
      "\u001b[1;32mc:\\users\\rbenj\\appdata\\local\\programs\\python\\python37\\lib\\site-packages\\pandas\\io\\parsers.py\u001b[0m in \u001b[0;36m_make_engine\u001b[1;34m(self, engine)\u001b[0m\n\u001b[0;32m   1012\u001b[0m     \u001b[1;32mdef\u001b[0m \u001b[0m_make_engine\u001b[0m\u001b[1;33m(\u001b[0m\u001b[0mself\u001b[0m\u001b[1;33m,\u001b[0m \u001b[0mengine\u001b[0m\u001b[1;33m=\u001b[0m\u001b[1;34m'c'\u001b[0m\u001b[1;33m)\u001b[0m\u001b[1;33m:\u001b[0m\u001b[1;33m\u001b[0m\u001b[1;33m\u001b[0m\u001b[0m\n\u001b[0;32m   1013\u001b[0m         \u001b[1;32mif\u001b[0m \u001b[0mengine\u001b[0m \u001b[1;33m==\u001b[0m \u001b[1;34m'c'\u001b[0m\u001b[1;33m:\u001b[0m\u001b[1;33m\u001b[0m\u001b[1;33m\u001b[0m\u001b[0m\n\u001b[1;32m-> 1014\u001b[1;33m             \u001b[0mself\u001b[0m\u001b[1;33m.\u001b[0m\u001b[0m_engine\u001b[0m \u001b[1;33m=\u001b[0m \u001b[0mCParserWrapper\u001b[0m\u001b[1;33m(\u001b[0m\u001b[0mself\u001b[0m\u001b[1;33m.\u001b[0m\u001b[0mf\u001b[0m\u001b[1;33m,\u001b[0m \u001b[1;33m**\u001b[0m\u001b[0mself\u001b[0m\u001b[1;33m.\u001b[0m\u001b[0moptions\u001b[0m\u001b[1;33m)\u001b[0m\u001b[1;33m\u001b[0m\u001b[1;33m\u001b[0m\u001b[0m\n\u001b[0m\u001b[0;32m   1015\u001b[0m         \u001b[1;32melse\u001b[0m\u001b[1;33m:\u001b[0m\u001b[1;33m\u001b[0m\u001b[1;33m\u001b[0m\u001b[0m\n\u001b[0;32m   1016\u001b[0m             \u001b[1;32mif\u001b[0m \u001b[0mengine\u001b[0m \u001b[1;33m==\u001b[0m \u001b[1;34m'python'\u001b[0m\u001b[1;33m:\u001b[0m\u001b[1;33m\u001b[0m\u001b[1;33m\u001b[0m\u001b[0m\n",
      "\u001b[1;32mc:\\users\\rbenj\\appdata\\local\\programs\\python\\python37\\lib\\site-packages\\pandas\\io\\parsers.py\u001b[0m in \u001b[0;36m__init__\u001b[1;34m(self, src, **kwds)\u001b[0m\n\u001b[0;32m   1706\u001b[0m         \u001b[0mkwds\u001b[0m\u001b[1;33m[\u001b[0m\u001b[1;34m'usecols'\u001b[0m\u001b[1;33m]\u001b[0m \u001b[1;33m=\u001b[0m \u001b[0mself\u001b[0m\u001b[1;33m.\u001b[0m\u001b[0musecols\u001b[0m\u001b[1;33m\u001b[0m\u001b[1;33m\u001b[0m\u001b[0m\n\u001b[0;32m   1707\u001b[0m \u001b[1;33m\u001b[0m\u001b[0m\n\u001b[1;32m-> 1708\u001b[1;33m         \u001b[0mself\u001b[0m\u001b[1;33m.\u001b[0m\u001b[0m_reader\u001b[0m \u001b[1;33m=\u001b[0m \u001b[0mparsers\u001b[0m\u001b[1;33m.\u001b[0m\u001b[0mTextReader\u001b[0m\u001b[1;33m(\u001b[0m\u001b[0msrc\u001b[0m\u001b[1;33m,\u001b[0m \u001b[1;33m**\u001b[0m\u001b[0mkwds\u001b[0m\u001b[1;33m)\u001b[0m\u001b[1;33m\u001b[0m\u001b[1;33m\u001b[0m\u001b[0m\n\u001b[0m\u001b[0;32m   1709\u001b[0m \u001b[1;33m\u001b[0m\u001b[0m\n\u001b[0;32m   1710\u001b[0m         \u001b[0mpassed_names\u001b[0m \u001b[1;33m=\u001b[0m \u001b[0mself\u001b[0m\u001b[1;33m.\u001b[0m\u001b[0mnames\u001b[0m \u001b[1;32mis\u001b[0m \u001b[1;32mNone\u001b[0m\u001b[1;33m\u001b[0m\u001b[1;33m\u001b[0m\u001b[0m\n",
      "\u001b[1;32mpandas\\_libs\\parsers.pyx\u001b[0m in \u001b[0;36mpandas._libs.parsers.TextReader.__cinit__\u001b[1;34m()\u001b[0m\n",
      "\u001b[1;32mpandas\\_libs\\parsers.pyx\u001b[0m in \u001b[0;36mpandas._libs.parsers.TextReader._setup_parser_source\u001b[1;34m()\u001b[0m\n",
      "\u001b[1;31mFileNotFoundError\u001b[0m: File b'station_53.csv' does not exist"
     ],
     "ename": "FileNotFoundError",
     "evalue": "File b'station_53.csv' does not exist",
     "output_type": "error"
    }
   ]
  },
  {
   "cell_type": "code",
   "metadata": {
    "colab": {
     "base_uri": "https://localhost:8080/",
     "height": 542
    },
    "id": "YC0hShUYVb9w",
    "outputId": "836e369f-6e4f-4dce-a433-db1076900242",
    "pycharm": {
     "is_executing": false
    }
   },
   "source": [
    "import plotly.express as px\n",
    "fig = px.line(df, x='timeFrom', y=\"prognoses\", color='modelId')\n",
    "fig.show()"
   ],
   "execution_count": null,
   "outputs": []
  },
  {
   "cell_type": "code",
   "metadata": {
    "colab": {
     "base_uri": "https://localhost:8080/"
    },
    "id": "suy1GYASNnPo",
    "outputId": "4a76c7b3-de1c-4f8d-e6af-c1ed1df7d83c",
    "pycharm": {
     "is_executing": false
    }
   },
   "source": [
    "pt.max(axis=0)"
   ],
   "execution_count": null,
   "outputs": []
  },
  {
   "cell_type": "code",
   "metadata": {
    "colab": {
     "base_uri": "https://localhost:8080/"
    },
    "id": "Ei4AlBr3xYuF",
    "outputId": "cf2f9f0c-5dfc-4c8c-ac79-907caf5bb1aa",
    "pycharm": {
     "is_executing": false
    }
   },
   "source": [
    "min_val = pt.min().min()\n",
    "max_val = pt.max().max()\n",
    "\n",
    "(min_val,max_val)\n"
   ],
   "execution_count": null,
   "outputs": []
  },
  {
   "cell_type": "code",
   "metadata": {
    "id": "uWYmQHkCyZrV",
    "pycharm": {
     "is_executing": false
    }
   },
   "source": [
    "def make_pdf(row,res=400):\n",
    "  val = row.dropna().values\n",
    "  kernel = gaussian_kde(val)\n",
    "  space = np.linspace(min_val,max_val,res)\n",
    "  prob = kernel.pdf(space)\n",
    "  interval = (max_val-min_val)/res\n",
    "  return pd.Series(prob*interval)\n",
    "\n",
    "\n",
    "\n",
    "def make_cdf(row,res=400):\n",
    "  prob = make_pdf(row,res)\n",
    "  cumulative = prob.cumsum()\n",
    "  \n",
    "  return pd.Series(cumulative)"
   ],
   "execution_count": null,
   "outputs": []
  },
  {
   "cell_type": "code",
   "metadata": {
    "id": "6PTXy8nMG3dR",
    "pycharm": {
     "is_executing": false
    }
   },
   "source": [
    ""
   ],
   "execution_count": null,
   "outputs": []
  },
  {
   "cell_type": "code",
   "metadata": {
    "id": "UURz4vZKrnWu",
    "pycharm": {
     "is_executing": false
    }
   },
   "source": [
    "df1 = pt.apply(make_pdf,axis=1)\n",
    "df2 = pt.apply(make_cdf,axis=1)\n",
    "df1.columns = np.linspace(min_val,max_val,400)\n",
    "df2.columns = np.linspace(min_val,max_val,400)\n"
   ],
   "execution_count": null,
   "outputs": []
  },
  {
   "cell_type": "code",
   "metadata": {
    "colab": {
     "background_save": true,
     "base_uri": "https://localhost:8080/",
     "height": 617
    },
    "id": "JwunQTcwHkcs",
    "outputId": "b5b34d36-c191-4cd4-a6f5-4581b5553b74",
    "pycharm": {
     "is_executing": false
    }
   },
   "source": [
    "import plotly.graph_objects as go\n",
    "\n",
    "\n",
    "fig = go.Figure(data=go.Heatmap(\n",
    "        x = df1.index,\n",
    "        y=  df1.columns,\n",
    "        z=df1.T,\n",
    "        colorscale='rdBu'))\n",
    "\n",
    "fig.update_xaxes(type='date',title='month')\n",
    "fig.update_yaxes(type='linear',title='station')\n",
    "fig.update_layout(yaxis = {'tickfont': {'size': 7}})\n",
    "\n",
    "fig.update_layout(height=600)\n",
    "fig.show()"
   ],
   "execution_count": 7,
   "outputs": [
    {
     "traceback": [
      "\u001b[1;31m---------------------------------------------------------------------------\u001b[0m",
      "\u001b[1;31mModuleNotFoundError\u001b[0m                       Traceback (most recent call last)",
      "\u001b[1;32m<ipython-input-7-6c5ec449d283>\u001b[0m in \u001b[0;36m<module>\u001b[1;34m\u001b[0m\n\u001b[1;32m----> 1\u001b[1;33m \u001b[1;32mimport\u001b[0m \u001b[0mplotly\u001b[0m\u001b[1;33m.\u001b[0m\u001b[0mgraph_objects\u001b[0m \u001b[1;32mas\u001b[0m \u001b[0mgo\u001b[0m\u001b[1;33m\u001b[0m\u001b[1;33m\u001b[0m\u001b[0m\n\u001b[0m\u001b[0;32m      2\u001b[0m \u001b[1;33m\u001b[0m\u001b[0m\n\u001b[0;32m      3\u001b[0m \u001b[1;33m\u001b[0m\u001b[0m\n\u001b[0;32m      4\u001b[0m fig = go.Figure(data=go.Heatmap(\n\u001b[0;32m      5\u001b[0m         \u001b[0mx\u001b[0m \u001b[1;33m=\u001b[0m \u001b[0mdf1\u001b[0m\u001b[1;33m.\u001b[0m\u001b[0mindex\u001b[0m\u001b[1;33m,\u001b[0m\u001b[1;33m\u001b[0m\u001b[1;33m\u001b[0m\u001b[0m\n",
      "\u001b[1;31mModuleNotFoundError\u001b[0m: No module named 'plotly.graph_objects'"
     ],
     "ename": "ModuleNotFoundError",
     "evalue": "No module named 'plotly.graph_objects'",
     "output_type": "error"
    }
   ]
  },
  {
   "cell_type": "code",
   "metadata": {
    "colab": {
     "background_save": true
    },
    "id": "KwC9D41SIx9T",
    "outputId": "05009e07-0d62-4ce4-94f9-ac2bed6e403d",
    "pycharm": {
     "is_executing": false
    }
   },
   "source": [
    "fig = go.Figure(data=go.Heatmap(\n",
    "        x = df2.index,\n",
    "        y=  df2.columns,\n",
    "        z=1-df2.T,\n",
    "        colorscale='rdBu'))\n",
    "\n",
    "fig.update_xaxes(type='date',title='month')\n",
    "fig.update_yaxes(type='linear',title='station')\n",
    "fig.update_layout(yaxis = {'tickfont': {'size': 7}})\n",
    "\n",
    "fig.update_layout(height=600)\n",
    "fig.show()"
   ],
   "execution_count": null,
   "outputs": []
  },
  {
   "cell_type": "code",
   "metadata": {
    "colab": {
     "background_save": true
    },
    "id": "vveJLHRFLUTk",
    "outputId": "b43a3e8c-8762-40e7-9c59-2654e7fe97d9",
    "pycharm": {
     "is_executing": false
    }
   },
   "source": [
    "from plotly.subplots import make_subplots\n",
    "fig = make_subplots(2, 1, vertical_spacing=0.15)\n",
    "fig.add_trace(go.Heatmap(\n",
    "        x = df1.index,\n",
    "        y=  df1.columns,\n",
    "        z=df1.T,\n",
    "        colorscale='rdBu'),1,1)\n",
    "\n",
    "fig.add_trace(go.Heatmap(\n",
    "        x = df2.index,\n",
    "        y=  df2.columns,\n",
    "        z=1-df2.T,\n",
    "        colorscale='rdBu'))\n",
    "\n",
    "fig.show()"
   ],
   "execution_count": null,
   "outputs": []
  }
 ]
}