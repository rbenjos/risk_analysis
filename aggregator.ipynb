{
 "cells": [
  {
   "cell_type": "code",
   "execution_count": 1,
   "metadata": {
    "collapsed": true,
    "pycharm": {
     "is_executing": false,
     "name": "#%%\n"
    }
   },
   "outputs": [
    {
     "name": "stdout",
     "text": [
      "done importing\n"
     ],
     "output_type": "stream"
    }
   ],
   "source": [
    "import numpy as np\n",
    "import pandas as pd\n",
    "\n",
    "from scipy.stats import norm, gaussian_kde\n",
    "from utils import logfile\n",
    "import os\n",
    "import sys\n",
    "print(\"done importing\")\n",
    "\n",
    "\n",
    "def aggregate(directory,filename):\n",
    "    df = pd.read_csv(f'{directory}\\\\{filename}')\n",
    "    df['ownerId'] = df['ownerId'].astype(str)\n",
    "    ownerIds = df['ownerId'].unique()\n",
    "    \n",
    "    \n",
    "    \n",
    "    pts_ind = {}\n",
    "    import os\n",
    "    if not os.path.exists(f\"{directory}\\\\stations_agg\"):\n",
    "        os.mkdir(f\"{directory}\\\\stations_agg\")\n",
    "    for counter,owner in enumerate(ownerIds):\n",
    "        df_partial = df[df['ownerId'] == owner]\n",
    "        pts_ind[owner] = pd.pivot_table(data = df_partial,values='prognoses',index='timeFrom',columns='modelId',aggfunc=np.sum)\n",
    "        pts_ind[owner].to_csv(f\"{directory}\\stations_agg\\\\{owner}.csv\")\n",
    "        print(f'done summarizing station {owner}. {counter}/{len(ownerIds)}')\n",
    "    \n",
    "    \n",
    "    pt = pd.pivot_table(data = df,values='prognoses',index='timeFrom',columns='modelId',aggfunc=np.sum)\n",
    "    agg_without = {}\n",
    "    if not os.path.exists(f\"{directory}\\\\stations_agg_without\"):\n",
    "        os.mkdir(f\"{directory}\\\\stations_agg_without\")\n",
    "    for counter,owner in enumerate(ownerIds):\n",
    "        agg_without[owner] = pt.subtract(pts_ind[owner],fill_value=0)\n",
    "        print(f'done subtracting station {owner}. {counter}/{len(ownerIds)}')\n",
    "        agg_without[owner].to_csv(f\"{directory}\\\\stations_agg_without\\\\{owner}.csv\",header=True)\n",
    "    \n",
    "\n",
    "    max_val = pt.max().max()*1.2\n",
    "    min_val = pt.min().min()/0.8\n",
    "    \n",
    "\n",
    "    def integrate_cdf(row,minv=min_val,maxv=max_val,res=100):\n",
    "      val = row.dropna().values\n",
    "      bw = 0.04\n",
    "      kernel = gaussian_kde(val,bw_method=bw)\n",
    "      space = np.linspace(minv,maxv,res)\n",
    "      cumulative = [kernel.integrate_box_1d(0,value) for value in space]\n",
    "      return (1-pd.Series(cumulative))\n",
    "    \n",
    "    def make_discrete_cdf(row,minv=min_val,maxv=max_val,res=100):\n",
    "      models = row.dropna().values\n",
    "      space = np.linspace(minv,maxv,res)\n",
    "      cumulative = pd.Series([(value<models).sum() for value in space])\n",
    "      return cumulative/cumulative.max()\n",
    "    \n",
    "   \n",
    "    \n",
    "    all_risk = pt.apply(integrate_cdf,axis=1)\n",
    "    all_risk.columns = np.linspace(min_val,max_val,100)\n",
    "    \n",
    "    print(\"done assesing total risk\")\n",
    "\n",
    "    max_risk_diff = {}\n",
    "    for counter,owner in enumerate(ownerIds):\n",
    "        risk_without = agg_without[owner].apply(integrate_cdf,axis=1)\n",
    "        risk_without.columns = np.linspace(min_val,max_val,100)\n",
    "        risk_diff = all_risk.subtract(risk_without,fill_value=0)\n",
    "        max_risk_diff[owner] = risk_diff.max(axis=0)\n",
    "        print(f'done assesing risk of station {owner}. {counter}/{len(ownerIds)}')\n",
    "    \n",
    "    \n",
    "    max_risk_station = pd.DataFrame(max_risk_diff)\n",
    "    max_risk_station.to_csv(f'{directory}\\\\added_risk_by_station_smooth.csv',header=True)\n",
    "    print('wrote smooth version')\n",
    "    \n",
    "\n",
    "if __name__ == '__main__':\n",
    "    filepath = sys.argv[1]\n",
    "    directory, filename = os.path.split(filepath)\n",
    "    log = logfile(directory)\n",
    "    aggregate(directory, filename, log)\n",
    "\n"
   ]
  }
 ],
 "metadata": {
  "kernelspec": {
   "display_name": "Python 3",
   "language": "python",
   "name": "python3"
  },
  "language_info": {
   "codemirror_mode": {
    "name": "ipython",
    "version": 2
   },
   "file_extension": ".py",
   "mimetype": "text/x-python",
   "name": "python",
   "nbconvert_exporter": "python",
   "pygments_lexer": "ipython2",
   "version": "2.7.6"
  },
  "pycharm": {
   "stem_cell": {
    "cell_type": "raw",
    "source": [],
    "metadata": {
     "collapsed": false
    }
   }
  }
 },
 "nbformat": 4,
 "nbformat_minor": 0
}