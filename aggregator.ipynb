{
 "cells": [
  {
   "cell_type": "code",
   "execution_count": 1,
   "metadata": {
    "collapsed": true,
    "pycharm": {
     "is_executing": false
    }
   },
   "outputs": [
    {
     "name": "stdout",
     "text": [
      "done importing\n"
     ],
     "output_type": "stream"
    }
   ],
   "source": [
    "import numpy as np\n",
    "import pandas as pd\n",
    "import matplotlib.pyplot as plt\n",
    "import seaborn as sns\n",
    "from scipy.stats import norm, gaussian_kde\n",
    "\n",
    "print(\"done importing\")\n",
    "\n",
    "\n",
    "\n"
   ]
  },
  {
   "cell_type": "code",
   "execution_count": 2,
   "outputs": [],
   "source": [
    "def aggregate_in_without(directory,filename):\n",
    "    df = pd.read_csv(f'{directory}\\\\{filename}')\n",
    "    df['ownerId'] = df['ownerId'].astype(str)\n",
    "    ownerIds = df['ownerId'].unique()\n",
    "    \n",
    "    \n",
    "    \n",
    "    pts_ind = {}\n",
    "    import os\n",
    "    if not os.path.exists(f\"{directory}\\\\stations_agg\"):\n",
    "        os.mkdir(f\"{directory}\\\\stations_agg\")\n",
    "    for counter,owner in enumerate(ownerIds):\n",
    "        df_partial = df[df['ownerId'] == owner]\n",
    "        pts_ind[owner] = pd.pivot_table(data = df_partial,values='prognoses',index='timeFrom',columns='modelId',aggfunc=np.sum)\n",
    "        pts_ind[owner].to_csv(f\"{directory}\\stations_agg\\\\{owner}.csv\")\n",
    "        print(f'done summarizing station {owner}. {counter}/{len(ownerIds)}')\n",
    "    \n",
    "    \n",
    "    pt = pd.pivot_table(data = df,values='prognoses',index='timeFrom',columns='modelId',aggfunc=np.sum)\n",
    "    agg_without = {}\n",
    "    if not os.path.exists(f\"{directory}\\\\stations_agg_without\"):\n",
    "        os.mkdir(f\"{directory}\\\\stations_agg_without\")\n",
    "    for counter,owner in enumerate(ownerIds):\n",
    "        agg_without[owner] = pt.subtract(pts_ind[owner],fill_value=0)\n",
    "        print(f'done subtracting station {owner}. {counter}/{len(ownerIds)}')\n",
    "        agg_without[owner].to_csv(f\"{directory}\\\\stations_agg_without\\\\{owner}.csv\",header=True)\n",
    "    \n",
    "\n",
    "    max_val = pt.max().max()*1.2\n",
    "    min_val = pt.min().min()/0.8\n",
    "    \n",
    "\n",
    "    def integrate_cdf(row,minv=min_val,maxv=max_val,res=100):\n",
    "      val = row.dropna().values\n",
    "      bw = 0.04\n",
    "      kernel = gaussian_kde(val,bw_method=bw)\n",
    "      space = np.linspace(minv,maxv,res)\n",
    "      cumulative = [kernel.integrate_box_1d(0,value) for value in space]\n",
    "      return (1-pd.Series(cumulative))\n",
    "    \n",
    "    def make_discrete_cdf(row,minv=min_val,maxv=max_val,res=100):\n",
    "      models = row.dropna().values\n",
    "      space = np.linspace(minv,maxv,res)\n",
    "      cumulative = pd.Series([(value<models).sum() for value in space])\n",
    "      return cumulative/cumulative.max()\n",
    "    \n",
    "   \n",
    "    \n",
    "    all_risk = pt.apply(integrate_cdf,axis=1)\n",
    "    all_risk.columns = np.linspace(min_val,max_val,100)\n",
    "    \n",
    "    print(\"done assesing total risk\")\n",
    "\n",
    "    max_risk_diff = {}\n",
    "    for counter,owner in enumerate(ownerIds):\n",
    "        risk_without = agg_without[owner].apply(integrate_cdf,axis=1)\n",
    "        risk_without.columns = np.linspace(min_val,max_val,100)\n",
    "        risk_diff = all_risk.subtract(risk_without,fill_value=0)\n",
    "        max_risk_diff[owner] = risk_diff.max(axis=0)\n",
    "        print(f'done assesing risk of station {owner}. {counter}/{len(ownerIds)}')\n",
    "    \n",
    "    \n",
    "    max_risk_station = pd.DataFrame(max_risk_diff)\n",
    "    max_risk_station.to_csv(f'{directory}\\\\added_risk_by_station_smooth.csv',header=True)\n",
    "    print('wrote smooth version')\n",
    "    "
   ],
   "metadata": {
    "collapsed": false,
    "pycharm": {
     "name": "#%%\n",
     "is_executing": false
    }
   }
  },
  {
   "cell_type": "code",
   "execution_count": null,
   "outputs": [
    {
     "name": "stderr",
     "text": [
      "c:\\users\\rbenj\\appdata\\local\\programs\\python\\python37\\lib\\site-packages\\IPython\\core\\interactiveshell.py:3254: DtypeWarning: Columns (1) have mixed types. Specify dtype option on import or set low_memory=False.\n",
      "  if (await self.run_code(code, result,  async_=asy)):\n"
     ],
     "output_type": "stream"
    },
    {
     "name": "stdout",
     "text": [
      "done summarizing station 100. 0/293\n",
      "done summarizing station 1004. 1/293\n",
      "done summarizing station 1018. 2/293\n",
      "done summarizing station 1020. 3/293\n",
      "done summarizing station 1022. 4/293\n",
      "done summarizing station 1024. 5/293\n",
      "done summarizing station 1025. 6/293\n",
      "done summarizing station 1026. 7/293\n",
      "done summarizing station 1027. 8/293\n",
      "done summarizing station 1028. 9/293\n",
      "done summarizing station 1029. 10/293\n",
      "done summarizing station 1030. 11/293\n",
      "done summarizing station 1031. 12/293\n",
      "done summarizing station 1032. 13/293\n",
      "done summarizing station 1033. 14/293\n",
      "done summarizing station 1034. 15/293\n",
      "done summarizing station 1035. 16/293\n",
      "done summarizing station 1036. 17/293\n",
      "done summarizing station 1037. 18/293\n",
      "done summarizing station 1038. 19/293\n",
      "done summarizing station 1039. 20/293\n"
     ],
     "output_type": "stream"
    }
   ],
   "source": [
    "\n",
    "#aggregate_in_without(\".\\data\\April-2020-based\",'primary_simplified.csv')\n",
    "aggregate_in_without(\".\\data\\May-2020-based\",'primary_simplified.csv')"
   ],
   "metadata": {
    "collapsed": false,
    "pycharm": {
     "name": "#%%\n",
     "is_executing": true
    }
   }
  }
 ],
 "metadata": {
  "kernelspec": {
   "display_name": "Python 3",
   "language": "python",
   "name": "python3"
  },
  "language_info": {
   "codemirror_mode": {
    "name": "ipython",
    "version": 2
   },
   "file_extension": ".py",
   "mimetype": "text/x-python",
   "name": "python",
   "nbconvert_exporter": "python",
   "pygments_lexer": "ipython2",
   "version": "2.7.6"
  },
  "pycharm": {
   "stem_cell": {
    "cell_type": "raw",
    "source": [],
    "metadata": {
     "collapsed": false
    }
   }
  }
 },
 "nbformat": 4,
 "nbformat_minor": 0
}