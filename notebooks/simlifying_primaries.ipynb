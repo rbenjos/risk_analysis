{
 "cells": [
  {
   "cell_type": "code",
   "execution_count": 1,
   "metadata": {
    "collapsed": true,
    "pycharm": {
     "is_executing": false,
     "name": "#%%\n"
    }
   },
   "outputs": [],
   "source": [
    "import numpy as np\n",
    "import pandas as pd\n",
    "import matplotlib.pyplot as plt\n",
    "import seaborn as sns\n",
    "import json\n",
    "import os"
   ]
  },
  {
   "cell_type": "code",
   "execution_count": 2,
   "outputs": [],
   "source": [
    "def simplify_prognoses(json_string):\n",
    "    \"\"\"\n",
    "    \n",
    "    :param json_string: the string inside the \"prognoses\" column, representing\n",
    "    some data structure out of which we want to extract the prediction alone\n",
    "    without the additional info\n",
    "     \n",
    "    :return: the forementioned prediction \n",
    "    \"\"\"\n",
    "    dic = json.loads(json_string)\n",
    "    if 'rba' in dic:\n",
    "        return extract_expected(json_string)\n",
    "    elif 'basic' in dic:\n",
    "        return extract_prognosis_value(json_string)\n",
    "    else:\n",
    "        return\n",
    "    "
   ],
   "metadata": {
    "collapsed": false,
    "pycharm": {
     "name": "#%%\n",
     "is_executing": false
    }
   }
  },
  {
   "cell_type": "code",
   "execution_count": 3,
   "outputs": [],
   "source": [
    "def extract_expected(json_string):\n",
    "    rba_list = json.loads(json_string)\n",
    "    rba_dic = json.loads(rba_list['rba'][0])\n",
    "    return rba_dic['expected']"
   ],
   "metadata": {
    "collapsed": false,
    "pycharm": {
     "name": "#%%\n",
     "is_executing": false
    }
   }
  },
  {
   "cell_type": "code",
   "execution_count": 4,
   "outputs": [],
   "source": [
    "def extract_prognosis_value(json_string):\n",
    "    rbe_list = json.loads(json_string)\n",
    "    rbe_dic = json.loads(rbe_list['basic'][0])\n",
    "    return rbe_dic['prognosisValue']"
   ],
   "metadata": {
    "collapsed": false,
    "pycharm": {
     "name": "#%%\n",
     "is_executing": false
    }
   }
  },
  {
   "cell_type": "code",
   "execution_count": 9,
   "outputs": [],
   "source": [
    "def simplify(directory,filename):\n",
    "    \n",
    "    chunks = pd.read_csv(f\"{directory}\\\\{filename}\",chunksize=10000)\n",
    "    \n",
    "    if not os.path.exists(directory):\n",
    "        os.mkdir(directory)\n",
    "    \n",
    "    i = 0\n",
    "    header = True\n",
    "    for chunk in chunks:\n",
    "        simplified_chunk = chunk[['modelId','ownerId','timeFrom','prognoses']]\n",
    "        simplified_chunk['prognoses'] = simplified_chunk['prognoses'].apply(simplify_prognoses) \n",
    "        \n",
    "        simplified_chunk.to_csv(f\"{directory}\\primary_simplified.csv\",\n",
    "                                index = False,mode ='a', header = header)\n",
    "        print(f\"saved chunk: {i}\")\n",
    "        i += 1\n",
    "        header = False"
   ],
   "metadata": {
    "collapsed": false,
    "pycharm": {
     "name": "#%%\n",
     "is_executing": false
    }
   }
  },
  {
   "cell_type": "code",
   "execution_count": 6,
   "outputs": [
    {
     "data": {
      "text/plain": "'a.dat'"
     },
     "metadata": {},
     "output_type": "execute_result",
     "execution_count": 6
    }
   ],
   "source": [],
   "metadata": {
    "collapsed": false,
    "pycharm": {
     "name": "#%%",
     "is_executing": false
    }
   }
  }
 ],
 "metadata": {
  "kernelspec": {
   "display_name": "Python 3",
   "language": "python",
   "name": "python3"
  },
  "language_info": {
   "codemirror_mode": {
    "name": "ipython",
    "version": 2
   },
   "file_extension": ".py",
   "mimetype": "text/x-python",
   "name": "python",
   "nbconvert_exporter": "python",
   "pygments_lexer": "ipython2",
   "version": "2.7.6"
  },
  "pycharm": {
   "stem_cell": {
    "cell_type": "raw",
    "source": [],
    "metadata": {
     "collapsed": false
    }
   }
  }
 },
 "nbformat": 4,
 "nbformat_minor": 0
}