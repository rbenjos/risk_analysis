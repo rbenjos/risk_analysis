{
 "cells": [
  {
   "cell_type": "code",
   "execution_count": 1,
   "metadata": {
    "collapsed": true,
    "pycharm": {
     "is_executing": false
    }
   },
   "outputs": [],
   "source": [
    "import numpy as np\n",
    "import pandas as pd\n",
    "import matplotlib.pyplot as plt\n",
    "import seaborn as sns\n",
    "from scipy.stats import norm, gaussian_kde\n"
   ]
  },
  {
   "cell_type": "code",
   "execution_count": null,
   "outputs": [],
   "source": [
    "class risk_assesor:\n",
    "    \n",
    "    def __init__(self,data):\n",
    "        self.df = data\n",
    "        self.pt = pd.pivot_table(self.df,values='prognoses', index ='timeFrom', columns='modelId')\n",
    "        self.min_val , self.max_val = self.pt.min().min(), self.pt.max().max()\n",
    "    \n",
    "    def asses_risk(df,power):\n",
    "        \n",
    "        \n",
    "        df2 = pt.apply(get_cumulative(),axis=1)\n",
    "    \n",
    "    \n",
    "    def get_cumulative(row,power):\n",
    "        val = row.dropna().values\n",
    "        kernel = gaussian_kde(val)\n",
    "        return kernel.integrate_box_1d(min_val, power)"
   ],
   "metadata": {
    "collapsed": false,
    "pycharm": {
     "name": "#%%\n"
    }
   }
  }
 ],
 "metadata": {
  "kernelspec": {
   "display_name": "Python 3",
   "language": "python",
   "name": "python3"
  },
  "language_info": {
   "codemirror_mode": {
    "name": "ipython",
    "version": 2
   },
   "file_extension": ".py",
   "mimetype": "text/x-python",
   "name": "python",
   "nbconvert_exporter": "python",
   "pygments_lexer": "ipython2",
   "version": "2.7.6"
  },
  "pycharm": {
   "stem_cell": {
    "cell_type": "raw",
    "source": [],
    "metadata": {
     "collapsed": false
    }
   }
  }
 },
 "nbformat": 4,
 "nbformat_minor": 0
}