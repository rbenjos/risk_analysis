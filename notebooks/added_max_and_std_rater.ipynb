{
 "cells": [
  {
   "cell_type": "code",
   "execution_count": 463,
   "metadata": {
    "collapsed": true,
    "pycharm": {
     "is_executing": false
    }
   },
   "outputs": [],
   "source": [
    "import numpy as np\n",
    "import pandas as pd\n",
    "import matplotlib.pyplot as plt"
   ]
  },
  {
   "cell_type": "code",
   "execution_count": 464,
   "outputs": [
    {
     "name": "stderr",
     "text": [
      "c:\\users\\rbenj\\appdata\\local\\programs\\python\\python37\\lib\\site-packages\\IPython\\core\\interactiveshell.py:3063: DtypeWarning: Columns (0) have mixed types. Specify dtype option on import or set low_memory=False.\n",
      "  interactivity=interactivity, compiler=compiler, result=result)\n"
     ],
     "output_type": "stream"
    }
   ],
   "source": [
    "actuals = pd.read_csv('D:\\projects\\data\\Actual-2020 December.csv')"
   ],
   "metadata": {
    "collapsed": false,
    "pycharm": {
     "name": "#%%\n",
     "is_executing": false
    }
   }
  },
  {
   "cell_type": "code",
   "execution_count": 465,
   "outputs": [
    {
     "data": {
      "text/plain": "         id             timeFrom  energyKwh\n93807  1159  2020-12-31 22:00:00     31.376",
      "text/html": "<div>\n<style scoped>\n    .dataframe tbody tr th:only-of-type {\n        vertical-align: middle;\n    }\n\n    .dataframe tbody tr th {\n        vertical-align: top;\n    }\n\n    .dataframe thead th {\n        text-align: right;\n    }\n</style>\n<table border=\"1\" class=\"dataframe\">\n  <thead>\n    <tr style=\"text-align: right;\">\n      <th></th>\n      <th>id</th>\n      <th>timeFrom</th>\n      <th>energyKwh</th>\n    </tr>\n  </thead>\n  <tbody>\n    <tr>\n      <th>93807</th>\n      <td>1159</td>\n      <td>2020-12-31 22:00:00</td>\n      <td>31.376</td>\n    </tr>\n  </tbody>\n</table>\n</div>"
     },
     "metadata": {},
     "output_type": "execute_result",
     "execution_count": 465
    }
   ],
   "source": [
    "actuals[actuals['id'] == 1159]"
   ],
   "metadata": {
    "collapsed": false,
    "pycharm": {
     "name": "#%%\n",
     "is_executing": false
    }
   }
  },
  {
   "cell_type": "code",
   "execution_count": 465,
   "outputs": [],
   "source": [],
   "metadata": {
    "collapsed": false,
    "pycharm": {
     "name": "#%%\n",
     "is_executing": false
    }
   }
  },
  {
   "cell_type": "code",
   "execution_count": 466,
   "outputs": [
    {
     "name": "stdout",
     "text": [
      "0\n",
      "27150\n"
     ],
     "output_type": "stream"
    }
   ],
   "source": [
    "print(actuals.isna().sum().sum())\n",
    "print((actuals==0).sum().sum())\n",
    "\n",
    "# meaning no null values, but alot of 0 values (is it possible?)"
   ],
   "metadata": {
    "collapsed": false,
    "pycharm": {
     "name": "#%%\n",
     "is_executing": false
    }
   }
  },
  {
   "cell_type": "code",
   "execution_count": 467,
   "outputs": [],
   "source": [
    "\n",
    "# lets group by station\n",
    "pt_by_station = pd.pivot_table(data = actuals, values = 'energyKwh',index = 'timeFrom', columns='id',fill_value=0)\n",
    "pt_by_station['total'] = pt_by_station.sum(axis=1)\n",
    "pt_by_station *= 2\n",
    "pt_by_station.index = pd.to_datetime(pt_by_station.index)"
   ],
   "metadata": {
    "collapsed": false,
    "pycharm": {
     "name": "#%%\n",
     "is_executing": false
    }
   }
  },
  {
   "cell_type": "code",
   "execution_count": 468,
   "outputs": [
    {
     "data": {
      "text/plain": "509341.5602712"
     },
     "metadata": {},
     "output_type": "execute_result",
     "execution_count": 468
    }
   ],
   "source": [
    "pt_by_station['total'].max()\n"
   ],
   "metadata": {
    "collapsed": false,
    "pycharm": {
     "name": "#%% \n",
     "is_executing": false
    }
   }
  },
  {
   "cell_type": "code",
   "execution_count": 527,
   "outputs": [
    {
     "data": {
      "text/plain": "id\n774                              0.000000\n268                              0.000000\n239                              0.000000\n1057                             0.000000\n770                              0.000000\n772                              0.000000\n778                              0.000000\n784                              0.000000\n786                              0.000000\n790                              0.000000\n396                              0.000000\n797                              0.000000\n792                              0.000000\n782                              0.027527\n939                              0.070343\n1058                             0.556630\n820                              0.971933\n568                              1.063825\n944                              2.320540\n1052                             2.371907\n794                              2.647838\n788                              2.687394\n1055                             2.824655\n241                              2.879494\n908                              2.999068\n780                              3.072076\n776                              3.441799\n1059                             3.579506\n1063                             3.860077\n1028                             3.929234\n                                 ...     \n93                             463.101194\n24                             466.788648\n927                            474.216299\n671                            491.090939\n53                             497.374886\n4                              497.690615\n954                            501.436886\n737                            507.683796\nAP Main                        514.473077\n663                            522.587845\n1066                           528.552434\n100                            572.932727\n19                             578.244140\n92                             588.358925\n452                            592.317103\n410                            601.003696\n453                            629.505796\n974                            707.776364\nEnergy Systems Jerusalem 1     722.459665\n23                             758.362568\n22                             807.657728\n50                             959.228814\nIscar MainTools               1706.616856\nIntel F28                     2528.123708\n242                           2533.263416\nCAOL                          2937.830209\nHadera Paper Main             3187.207312\n311                           3843.490609\n312                           4243.991163\nORL                           7896.507286\nLength: 337, dtype: float64"
     },
     "metadata": {},
     "output_type": "execute_result",
     "execution_count": 527
    }
   ],
   "source": [
    "daily_max = pt_by_station.groupby(by=pt_by_station.index.day).max()\n",
    "daily_max.apply(np.std,axis=0)[:-1].sort_values()"
   ],
   "metadata": {
    "collapsed": false,
    "pycharm": {
     "name": "#%%\n",
     "is_executing": false
    }
   }
  },
  {
   "cell_type": "code",
   "execution_count": 470,
   "outputs": [],
   "source": [
    "# the following is a list of station ranked by the number of zero values they have\n",
    "stations_by_zero_values = (pt_by_station==0).sum(axis=0).sort_values(ascending=False)\n",
    "\n",
    "# we would like to take out of our calculation any station that has more\n",
    "# than 500 zero values, as it would inappropriately be marked as 'safe'\n",
    "\n",
    "uncalculated_meters = stations_by_zero_values[stations_by_zero_values>500].index"
   ],
   "metadata": {
    "collapsed": false,
    "pycharm": {
     "name": "#%%\n",
     "is_executing": false
    }
   }
  },
  {
   "cell_type": "code",
   "execution_count": 470,
   "outputs": [],
   "source": [],
   "metadata": {
    "collapsed": false,
    "pycharm": {
     "name": "#%%\n",
     "is_executing": false
    }
   }
  },
  {
   "cell_type": "code",
   "execution_count": 471,
   "outputs": [],
   "source": [
    "# lets get the must meters:\n",
    "meters_used = actuals['id'].unique()\n",
    "meters = pd.read_csv(f'..\\\\data\\\\OPC-Meters.csv')\n",
    "must_customers = pd.read_csv(f'..\\\\data\\\\must_meters.csv')\n",
    "must_station = [station for station in meters['name'].values for must in must_customers['Must Customers'].values if must in station]\n",
    "must_meters = meters[meters['name'].isin(must_station)]['meterId'].values\n",
    "must_meters_used = [meter for meter in must_meters if meter in meters_used]"
   ],
   "metadata": {
    "collapsed": false,
    "pycharm": {
     "name": "#%%\n",
     "is_executing": false
    }
   }
  },
  {
   "cell_type": "code",
   "execution_count": 472,
   "outputs": [
    {
     "data": {
      "text/plain": "['Gadot Main',\n 'Hadera Paper Main',\n 'Intel F28',\n 'Intel IDC1-4',\n 'Intel IDC9',\n 'Intel IDPj',\n '92',\n 'Iscar MainTools',\n '93',\n '91',\n '95',\n 'ORL']"
     },
     "metadata": {},
     "output_type": "execute_result",
     "execution_count": 472
    }
   ],
   "source": [
    "must_meters_used"
   ],
   "metadata": {
    "collapsed": false,
    "pycharm": {
     "name": "#%%\n",
     "is_executing": false
    }
   }
  },
  {
   "cell_type": "code",
   "execution_count": 473,
   "outputs": [],
   "source": [
    "pt_by_station_to_rank = pt_by_station.drop(columns=must_meters_used).drop(columns=uncalculated_meters)"
   ],
   "metadata": {
    "collapsed": false,
    "pycharm": {
     "name": "#%%\n",
     "is_executing": false
    }
   }
  },
  {
   "cell_type": "code",
   "execution_count": 532,
   "outputs": [],
   "source": [
    "daily_max = pt_by_station_to_rank.groupby(by=pt_by_station_to_rank.index.day).max()\n",
    "daily_max_std = daily_max.apply(np.std,axis=0)[:-1].sort_values()\n",
    "\n",
    "daily_max.to_csv('daily_maxes.csv',header=True)"
   ],
   "metadata": {
    "collapsed": false,
    "pycharm": {
     "name": "#%%\n",
     "is_executing": false
    }
   }
  },
  {
   "cell_type": "code",
   "execution_count": 530,
   "outputs": [
    {
     "data": {
      "text/plain": "id\n939                              0.070343\n568                              1.063825\n944                              2.320540\n1052                             2.371907\n794                              2.647838\n788                              2.687394\n1055                             2.824655\n241                              2.879494\n908                              2.999068\n780                              3.072076\n776                              3.441799\n1059                             3.579506\n1063                             3.860077\n1028                             3.929234\n1064                             4.001072\n1048                             4.041149\n795                              4.124220\n566                              4.444581\n574                              5.105698\n1027                             5.221763\n1047                             5.360208\n585                              5.493479\n1029                             5.531806\n819                              5.539175\n1050                             5.670863\n567                              7.055518\n580                              7.238458\n987                              7.387672\n332                              7.416584\n948                              8.122000\n                                 ...     \n8                              392.750006\n21                             411.024749\n451                            430.335838\n450                            440.316543\n506                            449.457502\n875                            452.457353\n24                             466.788648\n927                            474.216299\n671                            491.090939\n53                             497.374886\n4                              497.690615\n954                            501.436886\n737                            507.683796\nAP Main                        514.473077\n663                            522.587845\n1066                           528.552434\n100                            572.932727\n19                             578.244140\n452                            592.317103\n410                            601.003696\n453                            629.505796\n974                            707.776364\nEnergy Systems Jerusalem 1     722.459665\n23                             758.362568\n22                             807.657728\n50                             959.228814\n242                           2533.263416\nCAOL                          2937.830209\n311                           3843.490609\n312                           4243.991163\nLength: 307, dtype: float64"
     },
     "metadata": {},
     "output_type": "execute_result",
     "execution_count": 530
    }
   ],
   "source": [
    "daily_max_std"
   ],
   "metadata": {
    "collapsed": false,
    "pycharm": {
     "name": "#%%\n",
     "is_executing": false
    }
   }
  },
  {
   "cell_type": "code",
   "execution_count": null,
   "outputs": [],
   "source": [
    "# now lets rate the station by the amount they contribute to the total maximum\n",
    "\n",
    "\n",
    "effect_by_meter = {}\n",
    "for column in pt_by_station_to_rank.columns:\n",
    "    max_without = (pt_by_station_to_rank['total']-pt_by_station_to_rank[column]).max() \n",
    "    effect_on_max = pt_by_station_to_rank['total'].max() - max_without\n",
    "    effect_by_meter[column] = effect_on_max\n",
    "\n",
    "# and rate them by that risk    \n",
    "meters_by_risk = pd.Series(effect_by_meter).sort_values()[:-1]"
   ],
   "metadata": {
    "collapsed": false,
    "pycharm": {
     "name": "#%%\n"
    }
   }
  },
  {
   "cell_type": "code",
   "execution_count": null,
   "outputs": [],
   "source": [
    "# doing the same for total consumption might also be right, that way \n",
    "# we can measure risk against importance again\n",
    "\n",
    "meters_by_consumption = pt_by_station_to_rank.sum()\n",
    "stations_risk_cons = pd.DataFrame({'effect_on_max':pd.Series(effect_by_meter),'consumption':meters_by_consumption})"
   ],
   "metadata": {
    "collapsed": false,
    "pycharm": {
     "name": "#%%\n"
    }
   }
  },
  {
   "cell_type": "code",
   "execution_count": null,
   "outputs": [],
   "source": [
    "stations_risk_cons['ratio'] = stations_risk_cons['effect_on_max'] /stations_risk_cons['consumption']  \n",
    "\n",
    "stations_risk_cons.sort_values('ratio',ascending=False).to_csv('station_risk_consumption.csv')"
   ],
   "metadata": {
    "collapsed": false,
    "pycharm": {
     "name": "#%%\n"
    }
   }
  },
  {
   "cell_type": "code",
   "execution_count": null,
   "outputs": [],
   "source": [
    "rate = 300\n",
    "meters_included = must_meters_used[:]\n",
    "for meter in meters_by_risk.index:\n",
    "    current_max = pt_by_station[meters_included].sum(axis=1).max()\n",
    "    if current_max > rate*1000:\n",
    "        break\n",
    "    meters_included.append(meter)\n",
    "    \n",
    "\n",
    "\n",
    "#pt_by_station[meters_included]\n",
    "len(meters_included)"
   ],
   "metadata": {
    "collapsed": false,
    "pycharm": {
     "name": "#%%\n"
    }
   }
  },
  {
   "cell_type": "code",
   "execution_count": null,
   "outputs": [],
   "source": [],
   "metadata": {
    "collapsed": false,
    "pycharm": {
     "name": "#%%\n"
    }
   }
  },
  {
   "cell_type": "code",
   "execution_count": 489,
   "outputs": [],
   "source": [],
   "metadata": {
    "collapsed": false,
    "pycharm": {
     "name": "#%%\n",
     "is_executing": false
    }
   }
  },
  {
   "cell_type": "code",
   "execution_count": 525,
   "outputs": [],
   "source": [
    "# doing the same for total consumption might also be right, that way \n",
    "# we can measure risk against importance again\n",
    "\n",
    "meters_by_consumption = pt_by_station_to_rank.sum()\n",
    "stations_risk_cons = pd.DataFrame({'effect_on_max':pd.Series(effect_by_meter),'consumption':meters_by_consumption})"
   ],
   "metadata": {
    "collapsed": false,
    "pycharm": {
     "name": "#%%\n",
     "is_executing": false
    }
   }
  },
  {
   "cell_type": "code",
   "execution_count": 526,
   "outputs": [],
   "source": [
    "stations_risk_cons['ratio'] = stations_risk_cons['effect_on_max'] /stations_risk_cons['consumption']  \n",
    "\n",
    "stations_risk_cons.sort_values('ratio',ascending=False).to_csv('station_risk_consumption.csv')"
   ],
   "metadata": {
    "collapsed": false,
    "pycharm": {
     "name": "#%%\n",
     "is_executing": false
    }
   }
  },
  {
   "cell_type": "code",
   "execution_count": 503,
   "outputs": [
    {
     "data": {
      "text/plain": "279"
     },
     "metadata": {},
     "output_type": "execute_result",
     "execution_count": 503
    }
   ],
   "source": [
    "rate = 300\n",
    "meters_included = must_meters_used[:]\n",
    "for meter in meters_by_risk.index:\n",
    "    current_max = pt_by_station[meters_included].sum(axis=1).max()\n",
    "    if current_max > rate*1000:\n",
    "        break\n",
    "    meters_included.append(meter)\n",
    "    \n",
    "\n",
    "\n",
    "#pt_by_station[meters_included]\n",
    "len(meters_included)"
   ],
   "metadata": {
    "collapsed": false,
    "pycharm": {
     "name": "#%%\n",
     "is_executing": false
    }
   }
  },
  {
   "cell_type": "code",
   "execution_count": 500,
   "outputs": [],
   "source": [],
   "metadata": {
    "collapsed": false,
    "pycharm": {
     "name": "#%%\n",
     "is_executing": false
    }
   }
  }
 ],
 "metadata": {
  "kernelspec": {
   "display_name": "Python 3",
   "language": "python",
   "name": "python3"
  },
  "language_info": {
   "codemirror_mode": {
    "name": "ipython",
    "version": 2
   },
   "file_extension": ".py",
   "mimetype": "text/x-python",
   "name": "python",
   "nbconvert_exporter": "python",
   "pygments_lexer": "ipython2",
   "version": "2.7.6"
  },
  "pycharm": {
   "stem_cell": {
    "cell_type": "raw",
    "source": [],
    "metadata": {
     "collapsed": false
    }
   }
  }
 },
 "nbformat": 4,
 "nbformat_minor": 0
}