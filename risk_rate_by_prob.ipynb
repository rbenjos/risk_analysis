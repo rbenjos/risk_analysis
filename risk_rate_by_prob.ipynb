{
 "cells": [
  {
   "cell_type": "code",
   "execution_count": 44,
   "outputs": [
    {
     "name": "stdout",
     "text": [
      "done importing\n"
     ],
     "output_type": "stream"
    }
   ],
   "source": [
    "\n",
    "import numpy as np\n",
    "import pandas as pd\n",
    "import os\n",
    "import sys\n",
    "\n",
    "print('done importing')"
   ],
   "metadata": {
    "collapsed": false,
    "pycharm": {
     "name": "#%%\n",
     "is_executing": false
    }
   }
  },
  {
   "cell_type": "code",
   "execution_count": 59,
   "outputs": [],
   "source": [
    "def rate(directory,rate):\n",
    "    # estimating the most dangerous non must stations based on the added risk\n",
    "    \n",
    "    added_risk = pd.read_csv(f'{directory}\\\\added_risk_by_station_smooth.csv')\n",
    "    added_risk.index = added_risk['Unnamed: 0']\n",
    "    added_risk = added_risk.drop(columns='Unnamed: 0')\n",
    "    \n",
    "    #%%\n",
    "    \n",
    "    # lets read all the meters so we can map from meter number to the name of the station\n",
    "    \n",
    "    meters = pd.read_csv('..\\data\\\\OPC-Meters.csv')\n",
    "    def meter_to_name(meterId):\n",
    "        name = meters.loc[meters['meterId']==meterId]['name']\n",
    "        if len(name) ==0:\n",
    "            return meterId\n",
    "        return name.values[0]\n",
    "    \n",
    "    #%%\n",
    "    \n",
    "    # and create the reverse mapper needed for renaming the columns\n",
    "    new_columns = {column: meter_to_name(column) for column in added_risk.columns}\n",
    "    \n",
    "    # and rename them\n",
    "    added_risk = added_risk.rename(columns=new_columns)\n",
    "    \n",
    "    \n",
    "    #%%\n",
    "    \n",
    "    # reading the must stations (actualy customers)\n",
    "    \n",
    "    must_customers = pd.read_csv(\"..\\data\\\\must_meters.csv\")\n",
    "    must_customers_vals = must_customers['Must Customers'].values\n",
    "    \n",
    "    #%%\n",
    "    \n",
    "    # and deriving the actual stations we need to keep (one customer -> many stations/meters)\n",
    "    must_station = [station for station in added_risk.columns for must in must_customers_vals if must in station]\n",
    "    pd.Series(must_station).to_csv('..\\data\\\\must_stations.csv')\n",
    "    \n",
    "    # finally lets drop them as they are not important in the risk analysis, they will stay anyway\n",
    "    added_risk_non_must = added_risk.drop(columns = must_station)\n",
    "    added_risk_non_must.to_csv(f'{directory}\\\\added_risk_non_must.csv')\n",
    "\n",
    "    #%%\n",
    "    \n",
    "    # argsort gives us the argument, which we want to convert to the meter name\n",
    "    mapper = {idx : column for idx,column in enumerate(added_risk_non_must.columns)}\n",
    "    def f(idx):\n",
    "        return mapper[idx]\n",
    "    \n",
    "    # sorting\n",
    "    added_risk_sorted_idx = added_risk_non_must.values.argsort(axis=1)\n",
    "    # mapping argument index to name and arrange in descending order\n",
    "    stations_by_risk = pd.DataFrame(added_risk_sorted_idx).applymap(f).loc[::,::-1]\n",
    "    # re indexing\n",
    "    stations_by_risk.index = added_risk_non_must.index\n",
    "    stations_by_risk.to_csv(f'{directory}\\\\stations_by_risk.csv')\n",
    "    \n",
    "    #%%\n",
    "    \n",
    "    # finally lets save the meters in the order of risk so we can iterate over them and add one by one\n",
    "    max_risk_stations = stations_by_risk.iloc[-1]\n",
    "    max_risk_stations.to_csv(f'{directory}\\\\max_risk_stations.csv',index=False)\n",
    "    \n",
    "    \n",
    "    #%%\n",
    "    \n",
    "    # now we need to rename all the aggregates files so we can iterate over them \n",
    "    import os\n",
    "    for file in os.listdir(f\"{directory}\\stations_agg\"):\n",
    "        name = (file.split('.')[0])\n",
    "        new_name = meter_to_name(name)\n",
    "        if f'{new_name}.csv' not in os.listdir(f\"{directory}\\stations_agg\"):\n",
    "            os.rename(f'{directory}\\stations_agg\\\\{file}',f'{directory}\\stations_agg\\\\{new_name}.csv')\n",
    "    \n",
    "    #%%\n",
    "    \n",
    "    # next thing we need to add these one by one until we reach a certain capacity\n",
    "    # first lets add all the must statiosn\n",
    "    \n",
    "    must_pt = None\n",
    "    maxes = {}\n",
    "    \n",
    "    #%%\n",
    "    \n",
    "    for idx,station in enumerate(must_station):\n",
    "        if must_pt is None :\n",
    "            print('first time')\n",
    "            must_pt =  pd.read_csv(f'{directory}\\\\stations_agg\\\\{station}.csv',index_col='timeFrom').fillna(0)\n",
    "        else:\n",
    "            station_pt = pd.read_csv(f'{directory}\\\\stations_agg\\\\{station}.csv',index_col='timeFrom').fillna(0)\n",
    "            must_pt = must_pt.add(station_pt,fill_value=0)\n",
    "        print(f'done adding station {station}, {idx}/{len(must_station)}')\n",
    "    \n",
    "    #%%\n",
    "    \n",
    "    # adjusting so it would be kWh\n",
    "    must_pt *= 2\n",
    "    \n",
    "    #%%\n",
    "    \n",
    "    must_pt.max().max()\n",
    "    \n",
    "    #%%\n",
    "    \n",
    "    least_risky = max_risk_stations[::-1]\n",
    "    all_pt = must_pt\n",
    "    non_must_pt = None\n",
    "    for idx,station in enumerate(least_risky):\n",
    "        station = station.split('.')[0]\n",
    "        \n",
    "        station_pt = pd.read_csv(f'{directory}\\stations_agg\\\\{station}.csv',index_col='timeFrom').fillna(0)\n",
    "        # again adjusting the consumption rate\n",
    "        station_pt *= 2\n",
    "        all_pt = all_pt.add(station_pt,fill_value=0)\n",
    "        if all_pt.max().max() > rate*1000:\n",
    "            all_pt = all_pt.subtract(station_pt,fill_value=0)\n",
    "            break\n",
    "        print(f'done adding station {station}, {idx}/{len(least_risky)}')\n",
    "    \n",
    "    #%%\n",
    "    \n",
    "    all_pt.max().max()\n",
    "    least_risky[:225].to_csv(f'{directory}\\\\stations_to_{rate}.csv')\n",
    "    \n",
    "\n",
    "    #%%\n",
    "    \n",
    "    all_pt.to_csv(f'{directory}\\\\aggregate_to_{rate}.csv',header=True)   \n"
   ],
   "metadata": {
    "collapsed": false,
    "pycharm": {
     "name": "#%%\n",
     "is_executing": false
    }
   }
  }
 ],
 "metadata": {
  "kernelspec": {
   "display_name": "Python 3",
   "language": "python",
   "name": "python3"
  },
  "language_info": {
   "codemirror_mode": {
    "name": "ipython",
    "version": 2
   },
   "file_extension": ".py",
   "mimetype": "text/x-python",
   "name": "python",
   "nbconvert_exporter": "python",
   "pygments_lexer": "ipython2",
   "version": "2.7.6"
  },
  "pycharm": {
   "stem_cell": {
    "cell_type": "raw",
    "source": [],
    "metadata": {
     "collapsed": false
    }
   }
  }
 },
 "nbformat": 4,
 "nbformat_minor": 0
}